{
 "cells": [
  {
   "cell_type": "markdown",
   "metadata": {},
   "source": [
    "This notebook is designed to create training sets we are using for our models.\\\n",
    "\\\n",
    "The desired setup requires that the original given training set is saved at \"C:\\Users\\\\_AddYourUsername_\\Downloads\\IRMAS_Training_Data\\IRMAS_Training_Data\"\\\n",
    "\\\n",
    "That folder should contain 11 folders named with the following list of names:\n",
    "['cel', 'cla', 'flu', 'gac', 'gel', 'org', 'pia', 'sax', 'tru', 'vio', 'voi']"
   ]
  },
  {
   "cell_type": "code",
   "execution_count": null,
   "metadata": {},
   "outputs": [],
   "source": [
    "from IPython.display import Audio\n",
    "from IPython.display import Image\n",
    "\n",
    "import random\n",
    "import tensorflow as tf\n",
    "from tensorflow import keras\n",
    "import os\n",
    "import numpy as np \n",
    "import librosa as lr\n",
    "import librosa.display\n",
    "import matplotlib.pyplot as plt\n",
    "from scipy.io.wavfile import write"
   ]
  },
  {
   "cell_type": "markdown",
   "metadata": {},
   "source": [
    "In the cell below please enter your username (which leads to the path mentioned above), and the instrument you wish to create the training set for. We will refer to instruments by their given shortcuts mentioned in the list above.\\\n",
    "\\\n",
    "Completely created setup should containt two folders named *IRMAS_Training_Data* and *MIX* which are equal for all instruments, which take about 3.3 GB of memory each. It should also contain one instrument-specific folder named *MIX2_InstrumentShortcut* which takes about 6 GB of memory."
   ]
  },
  {
   "cell_type": "code",
   "execution_count": 24,
   "metadata": {},
   "outputs": [],
   "source": [
    "username = \"user\"\n",
    "instrument_of_interest = \"flu\""
   ]
  },
  {
   "cell_type": "code",
   "execution_count": 25,
   "metadata": {},
   "outputs": [
    {
     "data": {
      "text/plain": [
       "['cel', 'cla', 'flu', 'gac', 'gel', 'org', 'pia', 'sax', 'tru', 'vio', 'voi']"
      ]
     },
     "execution_count": 25,
     "metadata": {},
     "output_type": "execute_result"
    }
   ],
   "source": [
    "directory = \"C:/Users/\" + username + \"/Downloads/IRMAS_Training_Data/IRMAS_Training_Data\"\n",
    "directory_names = os.listdir(directory)\n",
    "directory_names"
   ]
  },
  {
   "cell_type": "code",
   "execution_count": 26,
   "metadata": {},
   "outputs": [
    {
     "data": {
      "text/plain": [
       "2"
      ]
     },
     "execution_count": 26,
     "metadata": {},
     "output_type": "execute_result"
    }
   ],
   "source": [
    "redni_broj = directory_names.index(instrument_of_interest)\n",
    "redni_broj"
   ]
  },
  {
   "cell_type": "code",
   "execution_count": 27,
   "metadata": {},
   "outputs": [
    {
     "name": "stdout",
     "output_type": "stream",
     "text": [
      "[388 505 451 637 760 682 721 626 577 580 778]\n"
     ]
    }
   ],
   "source": [
    "directory_names = np.array(directory_names)\n",
    "n=0\n",
    "m = directory_names.size\n",
    "br_fileova = np.zeros(m)\n",
    "i=0\n",
    "for instrument in directory_names:\n",
    "    directory_path = os.path.join(\"C:/Users/\" + username + \"/Downloads/IRMAS_Training_Data/IRMAS_Training_Data\", instrument)\n",
    "    file_list = os.listdir(directory_path)\n",
    "    br_fileova[i] = np.size(file_list)\n",
    "    i = i + 1\n",
    "    n = n + np.size(file_list)\n",
    "    \n",
    "br_fileova = br_fileova.astype(int) \n",
    "print(br_fileova)"
   ]
  },
  {
   "cell_type": "markdown",
   "metadata": {},
   "source": [
    "The cell below should only be run once. Before we do so, we should manually create an empty folder named *MIX*, with the path \".../Downloads/IRMAS_Training_Data/MIX\". If folder *MIX* has already been created once before, the cell below should remain commented, and not be run again.\\\n",
    "\\\n",
    "The folder *MIX* contains about 6700 audio files which are made as a random combination of exactly 2 random audio files from the original training dataset, so that the distribution of the number of represented instruments remains the same as before (relatively to each other... there are twice as many labels now). Their labels are now saved in a *.txt* file with exact same name as the corresponding *.wav* file, the same way the labels are given in the three original validation datasets."
   ]
  },
  {
   "cell_type": "code",
   "execution_count": 1,
   "metadata": {},
   "outputs": [],
   "source": [
    "# output_dir = \"C:/Users/\" + username + \"/Downloads/IRMAS_Training_Data/MIX/\"\n",
    "# postotci = br_fileova/n\n",
    "# for i in range (m):\n",
    "#     for j in range(m):\n",
    "#         br = (postotci[j] * br_fileova[i]).astype(int)\n",
    "#         directory_path1 = os.path.join(\"C:/Users/\" + username + \"/Downloads/IRMAS_Training_Data/IRMAS_Training_Data\", directory_names[i])\n",
    "#         file_list1 = os.listdir(directory_path1)\n",
    "#         directory_path2 = os.path.join(\"C:/Users/\" + username + \"/Downloads/IRMAS_Training_Data/IRMAS_Training_Data\", directory_names[j])\n",
    "#         file_list2 = os.listdir(directory_path2)\n",
    "        \n",
    "#         for k in range(br):\n",
    "#             rand_file1 = random.choice(file_list1)\n",
    "#             file_path1 = os.path.join(directory_path1, rand_file1)\n",
    "#             rand_file2 = random.choice(file_list2)\n",
    "#             file_path2 = os.path.join(directory_path2, rand_file2)\n",
    "\n",
    "#             y1, sr1 = lr.load(file_path1, mono=True, sr=None)\n",
    "#             y2, sr2 = lr.load(file_path2, mono=True, sr=None)\n",
    "            \n",
    "#             y = y1 + y2\n",
    "#             ime = str(i) + '_' + str(j) + '_' + str(k)\n",
    "#             write(output_dir + ime + '.wav', sr1, y)\n",
    "            \n",
    "#             if (i != j):\n",
    "#                 with open(output_dir + ime + '.txt', 'w') as f:\n",
    "#                     f.write(directory_names[i] + '\\n' + directory_names[j])\n",
    "#             else:\n",
    "#                 with open(output_dir + ime + '.txt', 'w') as f:\n",
    "#                     f.write(directory_names[i])"
   ]
  },
  {
   "cell_type": "code",
   "execution_count": 29,
   "metadata": {},
   "outputs": [
    {
     "data": {
      "text/plain": [
       "6705"
      ]
     },
     "execution_count": 29,
     "metadata": {},
     "output_type": "execute_result"
    }
   ],
   "source": [
    "sum(br_fileova)"
   ]
  },
  {
   "cell_type": "code",
   "execution_count": 30,
   "metadata": {},
   "outputs": [
    {
     "data": {
      "text/plain": [
       "array([0.05786726, 0.07531693, 0.06726324, 0.09500373, 0.11334825,\n",
       "       0.10171514, 0.10753169, 0.09336316, 0.08605518, 0.08650261,\n",
       "       0.11603281])"
      ]
     },
     "execution_count": 30,
     "metadata": {},
     "output_type": "execute_result"
    }
   ],
   "source": [
    "postotci = br_fileova/n\n",
    "postotci"
   ]
  },
  {
   "cell_type": "markdown",
   "metadata": {},
   "source": [
    "From this point on, we are interested in making our final training dataset more class balanced. Since each instrument is now labeled positively at ~15% of our current audio files, we will add more audio files, with a bit more instruments, so that we balance our classes a bit better. We will make some new training examples, so that we have somewhere between 40% and 50% of label 1 for each instrument."
   ]
  },
  {
   "cell_type": "markdown",
   "metadata": {},
   "source": [
    "We will make 4000 new training audio files with exactly 2 instruments chosen from the original training dataset. We will make about 2500-3000 such files with label 1 for our instrument of interest, and 1000-1500 with label 0."
   ]
  },
  {
   "cell_type": "markdown",
   "metadata": {},
   "source": [
    "Make sure to only run each cell below exactly once for each instrument, since each time the cell is run, 4000 new training samples are made."
   ]
  },
  {
   "cell_type": "markdown",
   "metadata": {},
   "source": [
    "Please create an empty folder named *MIX2_InstrumentShortcut* (i.e. *MIX2_vio*) in the same location where the folder *MIX* is. The path should look something like \".../Downloads/IRMAS_Training_Data/MIX2_vio\"."
   ]
  },
  {
   "cell_type": "code",
   "execution_count": 34,
   "metadata": {},
   "outputs": [],
   "source": [
    "no_label_1 = 3000\n",
    "\n",
    "output_dir = \"C:/Users/\" + username + \"/Downloads/IRMAS_Training_Data/MIX2_\" + instrument_of_interest + \"/\"\n",
    "directory_path1 = os.path.join(\"C:/Users/\" + username + \"/Downloads/IRMAS_Training_Data/IRMAS_Training_Data\", instrument_of_interest)\n",
    "file_list1 = os.listdir(directory_path1)\n",
    "for i in range(no_label_1):\n",
    "    rand_file1 = random.choice(file_list1)\n",
    "    file_path1 = os.path.join(directory_path1, rand_file1)\n",
    "    \n",
    "    j = np.random.choice([x for x in range(11) if x != redni_broj])\n",
    "    directory_path2 = os.path.join(\"C:/Users/\" + username + \"/Downloads/IRMAS_Training_Data/IRMAS_Training_Data\", directory_names[j])\n",
    "    file_list2 = os.listdir(directory_path2)\n",
    "    rand_file2 = random.choice(file_list2)\n",
    "    file_path2 = os.path.join(directory_path2, rand_file2)\n",
    "    \n",
    "    y1, sr1 = lr.load(file_path1, mono=True, sr=None)\n",
    "    y2, sr2 = lr.load(file_path2, mono=True, sr=None)\n",
    "    y = y1 + y2\n",
    "    \n",
    "\n",
    "    ime = \"2Instrumenta_\" + directory_names[redni_broj] + \"_\" + directory_names[j] + \"_\" + str(i)\n",
    "    write(output_dir + ime + '.wav', sr1, y)\n",
    "    \n",
    "    with open(output_dir + ime + '.txt', 'w') as f:\n",
    "        f.write(directory_names[redni_broj] + '\\n' + directory_names[j])\n",
    "    "
   ]
  },
  {
   "cell_type": "code",
   "execution_count": 35,
   "metadata": {},
   "outputs": [],
   "source": [
    "no_label_0 = 4000 - no_label_1\n",
    "\n",
    "output_dir = \"C:/Users/\" + username + \"/Downloads/IRMAS_Training_Data/MIX2_\" + instrument_of_interest + \"/\"\n",
    "\n",
    "for i in range(no_label_0):\n",
    "    rand_file1 = random.choice(file_list1)\n",
    "    file_path1 = os.path.join(directory_path1, rand_file1)\n",
    "    \n",
    "    j = np.random.choice([x for x in range(11) if x != redni_broj])\n",
    "    directory_path1 = os.path.join(\"C:/Users/\" + username + \"/Downloads/IRMAS_Training_Data/IRMAS_Training_Data\", directory_names[j])\n",
    "    file_list1 = os.listdir(directory_path1)\n",
    "    rand_file1 = random.choice(file_list1)\n",
    "    file_path1 = os.path.join(directory_path1, rand_file1)    \n",
    "    \n",
    "    k = np.random.choice([x for x in range(11) if x != redni_broj])\n",
    "    directory_path2 = os.path.join(\"C:/Users/\" + username + \"/Downloads/IRMAS_Training_Data/IRMAS_Training_Data\", directory_names[k])\n",
    "    file_list2 = os.listdir(directory_path2)\n",
    "    rand_file2 = random.choice(file_list2)\n",
    "    file_path2 = os.path.join(directory_path2, rand_file2)\n",
    "    \n",
    "    y1, sr1 = lr.load(file_path1, mono=True, sr=None)\n",
    "    y2, sr2 = lr.load(file_path2, mono=True, sr=None)\n",
    "    y = y1 + y2\n",
    "    \n",
    "\n",
    "    ime = \"2Instrumenta_\" + directory_names[j] + \"_\" + directory_names[k] + \"_\" + str(i)\n",
    "    write(output_dir + ime + '.wav', sr1, y)\n",
    "    \n",
    "    if (j != k):\n",
    "        with open(output_dir + ime + '.txt', 'w') as f:\n",
    "            f.write(directory_names[j] + '\\n' + directory_names[k])\n",
    "    else:\n",
    "        with open(output_dir + ime + '.txt', 'w') as f:\n",
    "            f.write(directory_names[j])\n",
    "    "
   ]
  },
  {
   "cell_type": "markdown",
   "metadata": {},
   "source": [
    "We will now create 4000 new training sample with exactly 3 audio files from the original training dataset, in the same fashion as in the previous two cells."
   ]
  },
  {
   "cell_type": "code",
   "execution_count": 47,
   "metadata": {},
   "outputs": [],
   "source": [
    "no_label_1 = 3000\n",
    "\n",
    "output_dir = \"C:/Users/\" + username + \"/Downloads/IRMAS_Training_Data/MIX2_\" + instrument_of_interest + \"/\"\n",
    "directory_path1 = os.path.join(\"C:/Users/\" + username + \"/Downloads/IRMAS_Training_Data/IRMAS_Training_Data\", instrument_of_interest)\n",
    "file_list1 = os.listdir(directory_path1)\n",
    "for i in range(no_label_1):\n",
    "    rand_file1 = random.choice(file_list1)\n",
    "    file_path1 = os.path.join(directory_path1, rand_file1)\n",
    "    \n",
    "    j = np.random.choice([x for x in range(11) if x != redni_broj])\n",
    "    directory_path2 = os.path.join(\"C:/Users/\" + username + \"/Downloads/IRMAS_Training_Data/IRMAS_Training_Data\", directory_names[j])\n",
    "    file_list2 = os.listdir(directory_path2)\n",
    "    rand_file2 = random.choice(file_list2)\n",
    "    file_path2 = os.path.join(directory_path2, rand_file2)\n",
    "    \n",
    "    k = np.random.choice([x for x in range(11)])\n",
    "    directory_path3 = os.path.join(\"C:/Users/\" + username + \"/Downloads/IRMAS_Training_Data/IRMAS_Training_Data\", directory_names[k])\n",
    "    file_list3 = os.listdir(directory_path3)\n",
    "    rand_file3 = random.choice(file_list3)\n",
    "    file_path3 = os.path.join(directory_path3, rand_file3) \n",
    "    \n",
    "    y1, sr1 = lr.load(file_path1, mono=True, sr=None)\n",
    "    y2, sr2 = lr.load(file_path2, mono=True, sr=None)\n",
    "    y3, sr3 = lr.load(file_path3, mono=True, sr=None)\n",
    "    y = y1 + y2 + y3\n",
    "    \n",
    "    ime = \"3Instrumenta_\" + directory_names[redni_broj] + \"_\" + directory_names[j] + \"_\" + directory_names[k] + \"_\" + str(i)\n",
    "    write(output_dir + ime + '.wav', sr1, y)\n",
    "    \n",
    "    if (k == redni_broj or k == j):\n",
    "        with open(output_dir + ime + '.txt', 'w') as f:\n",
    "            f.write(directory_names[redni_broj] + '\\n' + directory_names[j])\n",
    "    else:\n",
    "        with open(output_dir + ime + '.txt', 'w') as f:\n",
    "            f.write(directory_names[redni_broj] + '\\n' + directory_names[j] + \"\\n\" + directory_names[k])\n",
    "    "
   ]
  },
  {
   "cell_type": "code",
   "execution_count": 48,
   "metadata": {},
   "outputs": [],
   "source": [
    "no_label_0 = 4000 - no_label_1\n",
    "\n",
    "output_dir = \"C:/Users/\" + username + \"/Downloads/IRMAS_Training_Data/MIX2_\" + instrument_of_interest + \"/\"\n",
    "\n",
    "for i in range(no_label_0):\n",
    "    rand_file1 = random.choice(file_list1)\n",
    "    file_path1 = os.path.join(directory_path1, rand_file1)\n",
    "    \n",
    "    j = np.random.choice([x for x in range(11) if x != redni_broj])\n",
    "    directory_path1 = os.path.join(\"C:/Users/\" + username + \"/Downloads/IRMAS_Training_Data/IRMAS_Training_Data\", directory_names[j])\n",
    "    file_list1 = os.listdir(directory_path1)\n",
    "    rand_file1 = random.choice(file_list1)\n",
    "    file_path1 = os.path.join(directory_path1, rand_file1)    \n",
    "    \n",
    "    k = np.random.choice([x for x in range(11) if (x != redni_broj and x != j)])\n",
    "    directory_path2 = os.path.join(\"C:/Users/\" + username + \"/Downloads/IRMAS_Training_Data/IRMAS_Training_Data\", directory_names[k])\n",
    "    file_list2 = os.listdir(directory_path2)\n",
    "    rand_file2 = random.choice(file_list2)\n",
    "    file_path2 = os.path.join(directory_path2, rand_file2)\n",
    "\n",
    "    l = np.random.choice([x for x in range(11) if x != redni_broj])\n",
    "    directory_path3 = os.path.join(\"C:/Users/\" + username + \"/Downloads/IRMAS_Training_Data/IRMAS_Training_Data\", directory_names[l])\n",
    "    file_list3 = os.listdir(directory_path3)\n",
    "    rand_file3 = random.choice(file_list3)\n",
    "    file_path3 = os.path.join(directory_path3, rand_file3)\n",
    "    \n",
    "    y1, sr1 = lr.load(file_path1, mono=True, sr=None)\n",
    "    y2, sr2 = lr.load(file_path2, mono=True, sr=None)\n",
    "    y3, sr3 = lr.load(file_path3, mono=True, sr=None)\n",
    "    y = y1 + y2 + y3\n",
    "    \n",
    "\n",
    "    ime = \"3Instrumenta_\" + directory_names[j] + \"_\" + directory_names[k] + \"_\" + directory_names[l] + \"_\" + str(i)\n",
    "    write(output_dir + ime + '.wav', sr1, y)\n",
    "    \n",
    "    if (l == k or l == j):\n",
    "        with open(output_dir + ime + '.txt', 'w') as f:\n",
    "            f.write(directory_names[j] + '\\n' + directory_names[k])\n",
    "    else:\n",
    "        with open(output_dir + ime + '.txt', 'w') as f:\n",
    "            f.write(directory_names[j] + '\\n' + directory_names[k] + \"\\n\" + directory_names[l])\n",
    "    "
   ]
  },
  {
   "cell_type": "markdown",
   "metadata": {},
   "source": [
    "Similar procedure to create new training samples with 4 different original training audio files is next in line."
   ]
  },
  {
   "cell_type": "code",
   "execution_count": 49,
   "metadata": {},
   "outputs": [],
   "source": [
    "no_label_1 = 2000\n",
    "\n",
    "output_dir = \"C:/Users/\" + username + \"/Downloads/IRMAS_Training_Data/MIX2_\" + instrument_of_interest + \"/\"\n",
    "directory_path1 = os.path.join(\"C:/Users/\" + username + \"/Downloads/IRMAS_Training_Data/IRMAS_Training_Data\", instrument_of_interest)\n",
    "file_list1 = os.listdir(directory_path1)\n",
    "for i in range(no_label_1):\n",
    "    rand_file1 = random.choice(file_list1)\n",
    "    file_path1 = os.path.join(directory_path1, rand_file1)\n",
    "    \n",
    "    j = np.random.choice([x for x in range(11) if x != redni_broj])\n",
    "    directory_path2 = os.path.join(\"C:/Users/\" + username + \"/Downloads/IRMAS_Training_Data/IRMAS_Training_Data\", directory_names[j])\n",
    "    file_list2 = os.listdir(directory_path2)\n",
    "    rand_file2 = random.choice(file_list2)\n",
    "    file_path2 = os.path.join(directory_path2, rand_file2)\n",
    "    \n",
    "    k = np.random.choice([x for x in range(11) if (x != redni_broj and x != j)])\n",
    "    directory_path3 = os.path.join(\"C:/Users/\" + username + \"/Downloads/IRMAS_Training_Data/IRMAS_Training_Data\", directory_names[k])\n",
    "    file_list3 = os.listdir(directory_path3)\n",
    "    rand_file3 = random.choice(file_list3)\n",
    "    file_path3 = os.path.join(directory_path3, rand_file3) \n",
    "\n",
    "    l = np.random.choice([x for x in range(11)])\n",
    "    directory_path4 = os.path.join(\"C:/Users/\" + username + \"/Downloads/IRMAS_Training_Data/IRMAS_Training_Data\", directory_names[l])\n",
    "    file_list4 = os.listdir(directory_path4)\n",
    "    rand_file4 = random.choice(file_list4)\n",
    "    file_path4 = os.path.join(directory_path4, rand_file4) \n",
    "    \n",
    "    y1, sr1 = lr.load(file_path1, mono=True, sr=None)\n",
    "    y2, sr2 = lr.load(file_path2, mono=True, sr=None)\n",
    "    y3, sr3 = lr.load(file_path3, mono=True, sr=None)\n",
    "    y4, sr4 = lr.load(file_path4, mono=True, sr=None)\n",
    "    y = y1 + y2 + y3 + y4\n",
    "    \n",
    "    ime = \"4Instrumenta_\" + directory_names[redni_broj] + \"_\" + directory_names[j] + \"_\" + directory_names[k] + \"_\" + directory_names[l] + \"_\" + str(i)\n",
    "    write(output_dir + ime + '.wav', sr1, y)\n",
    "    \n",
    "    if (l == redni_broj or l == j or l == k):\n",
    "        with open(output_dir + ime + '.txt', 'w') as f:\n",
    "            f.write(directory_names[redni_broj] + '\\n' + directory_names[j] + '\\n' + directory_names[k])\n",
    "    else:\n",
    "        with open(output_dir + ime + '.txt', 'w') as f:\n",
    "            f.write(directory_names[redni_broj] + '\\n' + directory_names[j] + \"\\n\" + directory_names[k] + '\\n' + directory_names[l])\n",
    "    "
   ]
  },
  {
   "cell_type": "code",
   "execution_count": 50,
   "metadata": {},
   "outputs": [],
   "source": [
    "no_label_0 = 4000 - no_label_1\n",
    "\n",
    "output_dir = \"C:/Users/\" + username + \"/Downloads/IRMAS_Training_Data/MIX2_\" + instrument_of_interest + \"/\"\n",
    "\n",
    "for i in range(no_label_0):\n",
    "    rand_file1 = random.choice(file_list1)\n",
    "    file_path1 = os.path.join(directory_path1, rand_file1)\n",
    "    \n",
    "    j = np.random.choice([x for x in range(11) if x != redni_broj])\n",
    "    directory_path1 = os.path.join(\"C:/Users/\" + username + \"/Downloads/IRMAS_Training_Data/IRMAS_Training_Data\", directory_names[j])\n",
    "    file_list1 = os.listdir(directory_path1)\n",
    "    rand_file1 = random.choice(file_list1)\n",
    "    file_path1 = os.path.join(directory_path1, rand_file1)    \n",
    "    \n",
    "    k = np.random.choice([x for x in range(11) if (x != redni_broj and x != j)])\n",
    "    directory_path2 = os.path.join(\"C:/Users/\" + username + \"/Downloads/IRMAS_Training_Data/IRMAS_Training_Data\", directory_names[k])\n",
    "    file_list2 = os.listdir(directory_path2)\n",
    "    rand_file2 = random.choice(file_list2)\n",
    "    file_path2 = os.path.join(directory_path2, rand_file2)\n",
    "\n",
    "    l = np.random.choice([x for x in range(11) if (x != redni_broj and x != j and x != k)])\n",
    "    directory_path3 = os.path.join(\"C:/Users/\" + username + \"/Downloads/IRMAS_Training_Data/IRMAS_Training_Data\", directory_names[l])\n",
    "    file_list3 = os.listdir(directory_path3)\n",
    "    rand_file3 = random.choice(file_list3)\n",
    "    file_path3 = os.path.join(directory_path3, rand_file3)\n",
    "    \n",
    "    p = np.random.choice([x for x in range(11) if x != redni_broj])\n",
    "    directory_path4 = os.path.join(\"C:/Users/\" + username + \"/Downloads/IRMAS_Training_Data/IRMAS_Training_Data\", directory_names[p])\n",
    "    file_list4 = os.listdir(directory_path4)\n",
    "    rand_file4 = random.choice(file_list4)\n",
    "    file_path4 = os.path.join(directory_path4, rand_file4)    \n",
    "    \n",
    "    y1, sr1 = lr.load(file_path1, mono=True, sr=None)\n",
    "    y2, sr2 = lr.load(file_path2, mono=True, sr=None)\n",
    "    y3, sr3 = lr.load(file_path3, mono=True, sr=None)\n",
    "    y4, sr4 = lr.load(file_path4, mono=True, sr=None)\n",
    "    y = y1 + y2 + y3 + y4\n",
    "    \n",
    "\n",
    "    ime = \"4Instrumenta_\" + directory_names[j] + \"_\" + directory_names[k] + \"_\" + directory_names[l] + \"_\" + directory_names[p] + \"_\" + str(i)\n",
    "    write(output_dir + ime + '.wav', sr1, y)\n",
    "    \n",
    "    if (p == k or p == j or p == l):\n",
    "        with open(output_dir + ime + '.txt', 'w') as f:\n",
    "            f.write(directory_names[j] + '\\n' + directory_names[k] + '\\n' + directory_names[l])\n",
    "    else:\n",
    "        with open(output_dir + ime + '.txt', 'w') as f:\n",
    "            f.write(directory_names[j] + '\\n' + directory_names[k] + \"\\n\" + directory_names[l] + '\\n' + directory_names[p])\n",
    "    "
   ]
  },
  {
   "cell_type": "markdown",
   "metadata": {},
   "source": [
    "The complete training dataset for our instrument of interest is now created.\\\n",
    "\\\n",
    "Keep in mind that each instrument-specific training dataset takes about 6 GB of memory, so it might be a good idea to delete them after you create and test your model."
   ]
  }
 ],
 "metadata": {
  "kernelspec": {
   "display_name": "Python 2",
   "language": "python",
   "name": "python2"
  },
  "language_info": {
   "codemirror_mode": {
    "name": "ipython",
    "version": 2
   },
   "file_extension": ".py",
   "mimetype": "text/x-python",
   "name": "python",
   "nbconvert_exporter": "python",
   "pygments_lexer": "ipython2",
   "version": "2.7.16"
  }
 },
 "nbformat": 4,
 "nbformat_minor": 2
}
