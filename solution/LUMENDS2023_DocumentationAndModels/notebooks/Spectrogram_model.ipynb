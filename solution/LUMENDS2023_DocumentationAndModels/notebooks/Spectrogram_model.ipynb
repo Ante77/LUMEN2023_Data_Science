{
 "cells": [
  {
   "cell_type": "markdown",
   "metadata": {},
   "source": [
    "This notebook is made to create and test the models we used for our application and to report the final results.\n",
    "\n",
    "We use 3 seconds long audio files and previously created training datasets, which are made using the notebook *Create_training_dataset.ipynb*."
   ]
  },
  {
   "cell_type": "markdown",
   "metadata": {},
   "source": [
    "We will use spectrogram images with the parameters *hop_length = 1024* and *n_coef = 20*, which will result in images having 128x130 resolution."
   ]
  },
  {
   "cell_type": "code",
   "execution_count": 45,
   "metadata": {},
   "outputs": [],
   "source": [
    "%matplotlib inline\n",
    "\n",
    "from IPython.display import Audio\n",
    "from IPython.display import Image\n",
    "\n",
    "\n",
    "import sklearn.preprocessing\n",
    "import tensorflow as tf\n",
    "from tensorflow import keras\n",
    "import os\n",
    "import numpy as np \n",
    "import librosa as lr\n",
    "import librosa.display\n",
    "import matplotlib.pyplot as plt\n",
    "import wave\n",
    "import soundfile as sf\n",
    "import math\n",
    "\n",
    "#from specAugment import spec_augment\n",
    "\n",
    "os.environ[\"KMP_DUPLICATE_LIB_OK\"]=\"TRUE\""
   ]
  },
  {
   "cell_type": "markdown",
   "metadata": {},
   "source": [
    "In the cell below, you should enter the username which leads the wanted directory.\\\n",
    "\\\n",
    "If you are not using the same setup as advised in *Create_training_dataset.ipynb* notebook and the *Technical_documentation.pdf*, you should enter your paths manually.\\\n",
    "\\\n",
    "You should also enter the instrument which you want to create your model as the *instrument_of_interest* variable, in this notebook it is \"gac\""
   ]
  },
  {
   "cell_type": "code",
   "execution_count": 46,
   "metadata": {},
   "outputs": [],
   "source": [
    "hop_length = 1024\n",
    "n_coef = 128\n",
    "\n",
    "username = \"user\"\n",
    "directory = \"C:/Users/\" + username + \"/Downloads/IRMAS_Training_Data/IRMAS_Training_Data\"\n",
    "directory_names = os.listdir(directory)\n",
    "instrument_of_interest = \"gac\"\n",
    "redni_broj = directory_names.index(instrument_of_interest)"
   ]
  },
  {
   "cell_type": "code",
   "execution_count": 47,
   "metadata": {},
   "outputs": [
    {
     "name": "stdout",
     "output_type": "stream",
     "text": [
      "[388 505 451 637 760 682 721 626 577 580 778]\n",
      "6705\n"
     ]
    }
   ],
   "source": [
    "directory_names = np.array(directory_names)\n",
    "n=0\n",
    "m = directory_names.size\n",
    "br_fileova = np.zeros(m)\n",
    "i=0\n",
    "for instrument in directory_names:\n",
    "    directory_path = os.path.join(\"C:/Users/\" + username + \"/Downloads/IRMAS_Training_Data/IRMAS_Training_Data\", instrument)\n",
    "    file_list = os.listdir(directory_path)\n",
    "    br_fileova[i] = np.size(file_list)\n",
    "    i = i + 1\n",
    "    n = n + np.size(file_list) \n",
    "    \n",
    "br_fileova = br_fileova.astype(int) \n",
    "print(br_fileova)\n",
    "print(n)"
   ]
  },
  {
   "cell_type": "code",
   "execution_count": 48,
   "metadata": {},
   "outputs": [],
   "source": [
    "directory_path = os.path.join(directory, instrument_of_interest)\n",
    "file_list = os.listdir(directory_path)\n",
    "\n",
    "mel_sgram_tensor1=np.zeros((br_fileova[redni_broj],n_coef,130))\n",
    "iter = 0\n",
    "\n",
    "for file in file_list:\n",
    "        \n",
    "    file_path = os.path.join(directory_path, file)\n",
    "    y, sr = librosa.load(file_path, sr=None)\n",
    "    \n",
    "    mel_scale_sgram = librosa.feature.melspectrogram(y=y, sr=sr, hop_length = hop_length)\n",
    "    mel_sgram = librosa.amplitude_to_db(mel_scale_sgram, ref=np.min)       \n",
    "    mel_sgram_tensor1[iter,:,:]=mel_sgram\n",
    "    \n",
    "    iter=iter+1\n"
   ]
  },
  {
   "cell_type": "code",
   "execution_count": 49,
   "metadata": {},
   "outputs": [],
   "source": [
    "mel_sgram_tensor2=np.zeros((6705-br_fileova[redni_broj],n_coef,130))\n",
    "iter = 0\n",
    "\n",
    "for instrument in [x for x in directory_names if x != instrument_of_interest]:\n",
    "    directory_path = os.path.join(directory, instrument)\n",
    "    file_list = os.listdir(directory_path)\n",
    "    \n",
    "    for file in file_list:\n",
    "                    \n",
    "        file_path = os.path.join(directory_path, file)\n",
    "        y, sr = librosa.load(file_path, sr=None)\n",
    "        \n",
    "        mel_scale_sgram = librosa.feature.melspectrogram(y=y, sr=sr, hop_length=hop_length)\n",
    "        mel_sgram = librosa.amplitude_to_db(mel_scale_sgram, ref=np.min)\n",
    "        mel_sgram_tensor2[iter,:,:]=mel_sgram\n",
    "        \n",
    "        iter=iter+1"
   ]
  },
  {
   "cell_type": "code",
   "execution_count": 50,
   "metadata": {
    "scrolled": true
   },
   "outputs": [
    {
     "name": "stdout",
     "output_type": "stream",
     "text": [
      "(637, 128, 130)\n",
      "(6068, 128, 130)\n"
     ]
    }
   ],
   "source": [
    "print(mel_sgram_tensor1.shape)\n",
    "print(mel_sgram_tensor2.shape)"
   ]
  },
  {
   "cell_type": "markdown",
   "metadata": {},
   "source": [
    "We will take 3000 samples that don't contain our instrument of interest. So let's create labels for the instruments we have right now in the cell below, and then choose those 3000 samples randomly, from the ones that don't contain our instrument of interest.\\\n",
    "\\\n",
    "After we do so, we are left with ~3500 samples where the last 3000 have label 0 and the rest of them label 1. The labels are saved in array *Y* and spectrograms in tensors *mel_sgram_tensor1* and *mel_sgram_tensor2_temp*, which are then concatenated in tensor *mel_sgram_Prvi_dio*."
   ]
  },
  {
   "cell_type": "code",
   "execution_count": 51,
   "metadata": {},
   "outputs": [
    {
     "name": "stdout",
     "output_type": "stream",
     "text": [
      "(637,)\n",
      "(3000,)\n",
      "(3637,)\n",
      "[1. 1. 1. ... 0. 0. 0.]\n"
     ]
    }
   ],
   "source": [
    "no_random_examples = 3000 \n",
    "\n",
    "Y1 = np.ones((br_fileova[redni_broj]))\n",
    "Y2 = np.zeros(no_random_examples)\n",
    "Y = np.append(Y1, Y2)\n",
    "\n",
    "print(Y1.shape)\n",
    "print(Y2.shape)"
   ]
  },
  {
   "cell_type": "code",
   "execution_count": 52,
   "metadata": {},
   "outputs": [
    {
     "name": "stdout",
     "output_type": "stream",
     "text": [
      "(3000, 128, 130)\n"
     ]
    },
    {
     "data": {
      "image/png": "[encoded data removed]",
      "text/plain": [
       "<Figure size 1000x400 with 2 Axes>"
      ]
     },
     "metadata": {},
     "output_type": "display_data"
    }
   ],
   "source": [
    "random_indices = np.random.choice(6705-br_fileova[redni_broj], size=no_random_examples, replace=False)\n",
    "\n",
    "mel_sgram_tensor2_temp = mel_sgram_tensor2[random_indices,:,:]\n",
    "print(mel_sgram_tensor2_temp.shape)\n",
    "\n",
    "plt.figure(figsize=(10, 4))\n",
    "librosa.display.specshow(mel_sgram_tensor2_temp[222,:,:], x_axis='time')\n",
    "plt.colorbar(format='%+2.0f dB')\n",
    "plt.title('melsgram')\n",
    "plt.xlabel('Time')\n",
    "plt.ylabel('Hz')\n",
    "plt.tight_layout()\n",
    "plt.show()"
   ]
  },
  {
   "cell_type": "code",
   "execution_count": 53,
   "metadata": {},
   "outputs": [],
   "source": [
    "mel_sgram_Prvi_dio = np.append(mel_sgram_tensor1, mel_sgram_tensor2_temp, axis = 0)\n",
    "del mel_sgram_tensor1\n",
    "del mel_sgram_tensor2\n",
    "del mel_sgram_tensor2_temp"
   ]
  },
  {
   "cell_type": "code",
   "execution_count": 54,
   "metadata": {},
   "outputs": [
    {
     "name": "stdout",
     "output_type": "stream",
     "text": [
      "(3637, 128, 130)\n"
     ]
    }
   ],
   "source": [
    "print(mel_sgram_Prvi_dio.shape)"
   ]
  },
  {
   "cell_type": "markdown",
   "metadata": {},
   "source": [
    "We will now load the polyphone samples we've created from the folder *MIX2_InstrumentShortcut*. The procedure is similar as before."
   ]
  },
  {
   "cell_type": "code",
   "execution_count": 55,
   "metadata": {},
   "outputs": [],
   "source": [
    "directory_mix2 = \"C:/Users/\" + username + \"/Downloads/IRMAS_Training_Data/MIX2_\" + instrument_of_interest\n",
    "wav_files = [f for f in os.listdir(directory_mix2) if f.endswith('.wav')]\n",
    "mix2files = [os.path.join(directory_mix2, f) for f in wav_files]\n",
    "\n",
    "m=len(mix2files)\n",
    "mel_sgram_tensor1=np.zeros((m,n_coef,130))\n",
    "iter=0\n",
    "for file in mix2files:\n",
    "    file_path = os.path.join(directory_mix2, file)\n",
    "    y, sr = librosa.load(file_path, sr=None)\n",
    "    \n",
    "    mel_scale_sgram = librosa.feature.melspectrogram(y=y, sr=sr, hop_length=hop_length)\n",
    "    mel_sgram = librosa.amplitude_to_db(mel_scale_sgram, ref=np.min)\n",
    "    mel_sgram_tensor1[iter,:,:]=mel_sgram\n",
    "    iter = iter + 1"
   ]
  },
  {
   "cell_type": "code",
   "execution_count": 56,
   "metadata": {},
   "outputs": [],
   "source": [
    "Y3 = []\n",
    "for file in mix2files:\n",
    "    with open(os.path.splitext(file)[0] + '.txt', 'r', encoding='utf-8') as f:\n",
    "        text = f.read()\n",
    "    if instrument_of_interest in text:\n",
    "        Y3.append(1)\n",
    "    else:\n",
    "        Y3.append(0)\n",
    "Y3 = np.array(Y3)"
   ]
  },
  {
   "cell_type": "markdown",
   "metadata": {},
   "source": [
    "Their labels are read and saved in array *Y3*, which will later be concatenated with the previously created labels."
   ]
  },
  {
   "cell_type": "code",
   "execution_count": 57,
   "metadata": {},
   "outputs": [
    {
     "name": "stdout",
     "output_type": "stream",
     "text": [
      "[0 1]\n",
      "[4000 8000]\n"
     ]
    }
   ],
   "source": [
    "unique, count = np.unique(Y3, return_counts = True)\n",
    "print(unique)\n",
    "print(count)"
   ]
  },
  {
   "cell_type": "code",
   "execution_count": 58,
   "metadata": {},
   "outputs": [
    {
     "name": "stdout",
     "output_type": "stream",
     "text": [
      "(15637, 128, 130)\n"
     ]
    }
   ],
   "source": [
    "mel_sgram_prva_dva_dijela = np.append(mel_sgram_Prvi_dio, mel_sgram_tensor1, axis = 0)\n",
    "del mel_sgram_Prvi_dio\n",
    "del mel_sgram_tensor1\n",
    "print(mel_sgram_prva_dva_dijela.shape)"
   ]
  },
  {
   "cell_type": "code",
   "execution_count": 59,
   "metadata": {},
   "outputs": [
    {
     "name": "stdout",
     "output_type": "stream",
     "text": [
      "[1. 1. 1. ... 0. 0. 0.]\n",
      "(15637,)\n"
     ]
    }
   ],
   "source": [
    "Y_prva_dva_dijela = np.append(Y, Y3, axis = 0)\n",
    "del Y\n",
    "del Y3\n",
    "del Y1\n",
    "del Y2\n",
    "print(Y_prva_dva_dijela)\n",
    "print(Y_prva_dva_dijela.shape)"
   ]
  },
  {
   "cell_type": "code",
   "execution_count": 60,
   "metadata": {},
   "outputs": [],
   "source": [
    "directory_mix = \"C:/Users/\" + username + \"/Downloads/IRMAS_Training_Data/MIX\"\n",
    "wav_files = [f for f in os.listdir(directory_mix) if f.endswith('.wav')]\n",
    "mixfiles = [os.path.join(directory_mix, f) for f in wav_files]\n",
    "\n",
    "m=len(mixfiles)\n",
    "mel_sgram_tensor1=np.zeros((m,n_coef,130))\n",
    "iter=0\n",
    "for file in mixfiles:\n",
    "    file_path = os.path.join(directory_mix, file)\n",
    "    y, sr = librosa.load(file_path, sr=None)\n",
    "    \n",
    "    mel_scale_sgram = librosa.feature.melspectrogram(y=y, sr=sr, hop_length=hop_length)\n",
    "    mel_sgram = librosa.amplitude_to_db(mel_scale_sgram, ref=np.min)\n",
    "    mel_sgram_tensor1[iter,:,:]= mel_sgram\n",
    "    iter = iter + 1"
   ]
  },
  {
   "cell_type": "code",
   "execution_count": 61,
   "metadata": {},
   "outputs": [],
   "source": [
    "Y3 = []\n",
    "for file in mixfiles:\n",
    "    with open(os.path.splitext(file)[0] + '.txt', 'r', encoding='utf-8') as f:\n",
    "        text = f.read()\n",
    "    if instrument_of_interest in text:\n",
    "        Y3.append(1)\n",
    "    else:\n",
    "        Y3.append(0)\n",
    "Y3 = np.array(Y3)"
   ]
  },
  {
   "cell_type": "code",
   "execution_count": 62,
   "metadata": {},
   "outputs": [
    {
     "name": "stdout",
     "output_type": "stream",
     "text": [
      "(22282, 128, 130)\n"
     ]
    }
   ],
   "source": [
    "mel_sgram_prva_tri_dijela = np.append(mel_sgram_prva_dva_dijela, mel_sgram_tensor1, axis = 0)\n",
    "del mel_sgram_prva_dva_dijela\n",
    "del mel_sgram_tensor1\n",
    "print(mel_sgram_prva_tri_dijela.shape)"
   ]
  },
  {
   "cell_type": "code",
   "execution_count": 63,
   "metadata": {},
   "outputs": [
    {
     "name": "stdout",
     "output_type": "stream",
     "text": [
      "[1. 1. 1. ... 0. 0. 0.]\n",
      "(22282,)\n"
     ]
    }
   ],
   "source": [
    "Y_prva_tri_dijela = np.append(Y_prva_dva_dijela, Y3, axis = 0)\n",
    "del Y_prva_dva_dijela\n",
    "del Y3\n",
    "print(Y_prva_tri_dijela)\n",
    "print(Y_prva_tri_dijela.shape)"
   ]
  },
  {
   "cell_type": "code",
   "execution_count": 64,
   "metadata": {},
   "outputs": [
    {
     "name": "stdout",
     "output_type": "stream",
     "text": [
      "[0. 1.]\n",
      "[12445  9837]\n"
     ]
    }
   ],
   "source": [
    "unique, count = np.unique(Y_prva_tri_dijela, return_counts = True)\n",
    "print(unique)\n",
    "print(count)"
   ]
  },
  {
   "cell_type": "code",
   "execution_count": 65,
   "metadata": {},
   "outputs": [
    {
     "name": "stdout",
     "output_type": "stream",
     "text": [
      "(22282,)\n"
     ]
    }
   ],
   "source": [
    "a,b,c=mel_sgram_prva_tri_dijela.shape\n",
    "print(Y_prva_tri_dijela.shape)"
   ]
  },
  {
   "cell_type": "code",
   "execution_count": 66,
   "metadata": {},
   "outputs": [
    {
     "name": "stdout",
     "output_type": "stream",
     "text": [
      "22282\n"
     ]
    }
   ],
   "source": [
    "print(a)"
   ]
  },
  {
   "cell_type": "code",
   "execution_count": 68,
   "metadata": {},
   "outputs": [],
   "source": [
    "np.save('X_melsgram_cijeli_tenzor.npy', mel_sgram_prva_tri_dijela)\n",
    "np.save('Y_melsgram_sve_oznake.npy', Y_prva_tri_dijela)\n",
    "# mel_sgram_prva_tri_dijela = np.load('X_melsgram_cijeli_tenzor.npy')\n",
    "# Y_prva_tri_dijela = np.load('Y_melsgram_sve_oznake.npy')"
   ]
  },
  {
   "cell_type": "markdown",
   "metadata": {},
   "source": [
    "Because spectrogram images are larger then MFCC's, we decided to train model on randomly chosen half of total number of spectrograms"
   ]
  },
  {
   "cell_type": "code",
   "execution_count": 69,
   "metadata": {},
   "outputs": [],
   "source": [
    "n_samples = a\n",
    "num_samples_to_select1 = int(a*0.5)\n",
    "\n",
    "random_indices1 = np.random.choice(n_samples, size=num_samples_to_select1, replace=False)\n",
    "mel_sgram_prva_tri_dijela = mel_sgram_prva_tri_dijela[random_indices1,:,:]\n",
    "Y_prva_tri_dijela = Y_prva_tri_dijela[random_indices1]"
   ]
  },
  {
   "cell_type": "code",
   "execution_count": null,
   "metadata": {
    "collapsed": true
   },
   "outputs": [
    {
     "name": "stdout",
     "output_type": "stream",
     "text": [
      "(4000, 128, 130, 1)\n",
      "(1000,)\n",
      "Epoch 1/150\n",
      "125/125 [==============================] - 194s 2s/step - loss: 0.7022 - accuracy: 0.5495 - val_loss: 0.6899 - val_accuracy: 0.5730\n",
      "Epoch 2/150\n",
      "125/125 [==============================] - 184s 1s/step - loss: 0.6873 - accuracy: 0.5587 - val_loss: 0.6869 - val_accuracy: 0.5730\n",
      "Epoch 3/150\n",
      "125/125 [==============================] - 181s 1s/step - loss: 0.6856 - accuracy: 0.5583 - val_loss: 0.6868 - val_accuracy: 0.5730\n",
      "Epoch 4/150\n",
      "125/125 [==============================] - 187s 1s/step - loss: 0.6841 - accuracy: 0.5565 - val_loss: 0.6796 - val_accuracy: 0.5730\n",
      "Epoch 5/150\n",
      "125/125 [==============================] - 172s 1s/step - loss: 0.6834 - accuracy: 0.5575 - val_loss: 0.6754 - val_accuracy: 0.5730\n",
      "Epoch 6/150\n",
      "125/125 [==============================] - 196s 2s/step - loss: 0.6729 - accuracy: 0.5698 - val_loss: 0.6893 - val_accuracy: 0.5380\n",
      "Epoch 7/150\n",
      "125/125 [==============================] - 183s 1s/step - loss: 0.6752 - accuracy: 0.5782 - val_loss: 0.6815 - val_accuracy: 0.5920\n",
      "Epoch 8/150\n",
      "125/125 [==============================] - 183s 1s/step - loss: 0.6696 - accuracy: 0.5757 - val_loss: 0.6692 - val_accuracy: 0.6140\n",
      "Epoch 9/150\n",
      "125/125 [==============================] - 196s 2s/step - loss: 0.6636 - accuracy: 0.5872 - val_loss: 0.6885 - val_accuracy: 0.6090\n",
      "Epoch 10/150\n",
      "125/125 [==============================] - 188s 2s/step - loss: 0.6568 - accuracy: 0.5950 - val_loss: 0.6681 - val_accuracy: 0.6190\n",
      "Epoch 11/150\n",
      "125/125 [==============================] - 189s 2s/step - loss: 0.6560 - accuracy: 0.5970 - val_loss: 0.6546 - val_accuracy: 0.6280\n",
      "Epoch 12/150\n",
      "125/125 [==============================] - 172s 1s/step - loss: 0.6506 - accuracy: 0.6053 - val_loss: 0.6504 - val_accuracy: 0.6270\n",
      "Epoch 13/150\n",
      "125/125 [==============================] - 193s 2s/step - loss: 0.6493 - accuracy: 0.6110 - val_loss: 0.6362 - val_accuracy: 0.6470\n",
      "Epoch 14/150\n",
      "125/125 [==============================] - 193s 2s/step - loss: 0.6482 - accuracy: 0.6100 - val_loss: 0.6629 - val_accuracy: 0.6250\n",
      "Epoch 15/150\n",
      "125/125 [==============================] - 186s 1s/step - loss: 0.6486 - accuracy: 0.6145 - val_loss: 0.6691 - val_accuracy: 0.5720\n",
      "Epoch 16/150\n",
      "106/125 [========================>.....] - ETA: 26s - loss: 0.6494 - accuracy: 0.6135"
     ]
    }
   ],
   "source": [
    "from tensorflow.keras.models import Sequential\n",
    "from tensorflow.keras.layers import Conv2D, MaxPooling2D, Flatten, Dense, Dropout, BatchNormalization\n",
    "from tensorflow.keras.callbacks import EarlyStopping\n",
    "from sklearn.model_selection import train_test_split\n",
    "from tensorflow.keras.layers import Reshape\n",
    "from tensorflow.keras.layers import LSTM\n",
    "from tensorflow.keras.optimizers import SGD\n",
    "from keras.callbacks import ModelCheckpoint\n",
    "\n",
    "# Define the ModelCheckpoint callback\n",
    "checkpoint = ModelCheckpoint(filepath= instrument_of_interest + 'best_model.h5',\n",
    "                             monitor='val_loss',\n",
    "                             save_best_only=True,\n",
    "                             mode='min')\n",
    "\n",
    "# Define SGD optimizer with desired parameters\n",
    "sgd_optimizer = SGD(learning_rate=0.005, momentum=0.9, nesterov=True)\n",
    "\n",
    "# Split the data into training and testing sets\n",
    "X_train, X_test, y_train, y_test = train_test_split(mel_sgram_prva_tri_dijela, Y_prva_tri_dijela, test_size=0.2, random_state=42)\n",
    "\n",
    "del mel_sgram_prva_tri_dijela\n",
    "del Y_prva_tri_dijela\n",
    "\n",
    "X_train = X_train.reshape((-1, n_coef, 130, 1))\n",
    "X_test = X_test.reshape((-1, n_coef, 130, 1))\n",
    "y_train = np.array(y_train)\n",
    "print(X_train.shape)\n",
    "y_test = np.array(y_test)\n",
    "print(y_test.shape)\n",
    "\n",
    "early_stopping = EarlyStopping(monitor='val_loss', patience=30, mode='min')\n",
    "\n",
    "model = Sequential()\n",
    "\n",
    "model.add(Conv2D(32, kernel_size=(5, 5), strides = 1, padding='same', activation='relu', input_shape=(n_coef, 130, 1)))\n",
    "model.add(MaxPooling2D(pool_size=(2, 2), padding='same', data_format='channels_last'))\n",
    "model.add(Dropout(0.25))\n",
    "model.add(BatchNormalization())\n",
    "\n",
    "model.add(Conv2D(64, kernel_size=(5, 5), strides = 1, padding='same', activation='relu', input_shape=(n_coef, 130, 1)))\n",
    "model.add(MaxPooling2D(pool_size=(2, 2), padding='same', data_format='channels_last'))\n",
    "model.add(Dropout(0.25))\n",
    "\n",
    "model.add(Conv2D(128, kernel_size=(5, 5), strides = 1, padding='same', activation='relu', input_shape=(n_coef, 130, 1)))\n",
    "model.add(MaxPooling2D(pool_size=(2, 2), padding='same', data_format='channels_last'))\n",
    "model.add(Dropout(0.25))\n",
    "\n",
    "model.add(Conv2D(256, kernel_size=(5, 5), strides = 1, padding='same', activation='relu', input_shape=(n_coef, 130, 1)))\n",
    "model.add(MaxPooling2D(pool_size=(2, 2), padding='same', data_format='channels_last'))\n",
    "model.add(Dropout(0.25))\n",
    "\n",
    "model.add(Conv2D(512, kernel_size=(5, 5), strides = 1, padding='same', activation='relu', input_shape=(n_coef, 130, 1)))\n",
    "model.add(MaxPooling2D(pool_size=(2, 2), padding='same', data_format='channels_last'))\n",
    "model.add(Dropout(0.25))\n",
    "\n",
    "model.add(Flatten())  # Add a Flatten layer to flatten the output from the previous layers\n",
    "\n",
    "model.add(Dense(256, activation='relu'))\n",
    "model.add(Dropout(0.25))\n",
    "\n",
    "model.add(Dense(1, activation='sigmoid'))\n",
    "\n",
    "model.compile(loss='binary_crossentropy', optimizer=sgd_optimizer, metrics=['accuracy'])\n",
    "\n",
    "# Train the CNN-LSTM model on the training set for 150 epochs\n",
    "history = model.fit(X_train, y_train, batch_size=32, epochs=150, validation_data=(X_test, y_test), callbacks=[early_stopping, checkpoint])\n",
    "\n",
    "# Evaluate the CNN-LSTM model on the testing set\n",
    "score = model.evaluate(X_test, y_test, verbose=0)\n",
    "print(\"Test loss:\",score[0])\n",
    "print(\"Test accuracy:\",score[1])"
   ]
  },
  {
   "cell_type": "code",
   "execution_count": null,
   "metadata": {},
   "outputs": [],
   "source": [
    "model = keras.models.load_model(instrument_of_interest + 'best_model.h5')Now we will plot training and validation loss, and training and validation accuracy\n"
   ]
  },
  {
   "cell_type": "markdown",
   "metadata": {},
   "source": [
    "Now we will plot training and validation loss, and training and validation accuracy"
   ]
  },
  {
   "cell_type": "code",
   "execution_count": null,
   "metadata": {},
   "outputs": [],
   "source": [
    "import matplotlib.pyplot as plt\n",
    "\n",
    "plt.plot(history.history['loss'], label='Training Loss')\n",
    "plt.plot(history.history['val_loss'], label='Validation Loss')\n",
    "plt.xlabel('Epochs')\n",
    "plt.ylabel('Loss')\n",
    "plt.legend()\n",
    "plt.show()\n",
    "\n",
    "plt.plot(history.history['accuracy'], label='Training Accuracy')\n",
    "plt.plot(history.history['val_accuracy'], label='Validation Accuracy')\n",
    "plt.xlabel('Epochs')\n",
    "plt.ylabel('Accuracy')\n",
    "plt.legend()\n",
    "plt.show()"
   ]
  },
  {
   "cell_type": "markdown",
   "metadata": {},
   "source": [
    "After some visualisation of the model, let's test the model on audio files from the folder \"IRMAS_Validation_Data_part1\""
   ]
  },
  {
   "cell_type": "code",
   "execution_count": null,
   "metadata": {},
   "outputs": [],
   "source": [
    "# Create a list of file paths for the test data\n",
    "directory = r'path_to_validation_dataset_1'\n",
    "wav_files = [f for f in os.listdir(directory) if f.endswith('.wav')]\n",
    "validation_files = [os.path.join(directory, f) for f in wav_files]\n",
    "\n",
    "\n",
    "m=len(validation_files)\n",
    "mel_sgram_tensor1=np.zeros((m,n_coef,130))\n",
    "\n",
    "final_preds = np.zeros(m)\n",
    "means = np.zeros(m)\n",
    "i=0\n",
    "\n",
    "\n",
    "for file in validation_files:\n",
    "    \n",
    "    \n",
    "    audio = wave.open(file)\n",
    "    duration_seconds = audio. getnframes() / audio. getframerate()\n",
    "    n_intervals = math.ceil(duration_seconds/3)\n",
    "    pred_labels_temp = np.zeros(n_intervals)\n",
    "    \n",
    "    \n",
    "    for j in range(n_intervals-1):\n",
    "        y, sr = librosa.load(file, mono=True, sr=None, offset=j*3.0, duration=3.0)\n",
    "\n",
    "        mel_scale_sgram = librosa.feature.melspectrogram(y = y, sr=sr, hop_length=hop_length)\n",
    "\n",
    "        mel_sgram = librosa.amplitude_to_db(mel_scale_sgram, ref=np.min)\n",
    "        mel_sgram = mel_sgram.reshape(-1,n_coef,130,1)\n",
    "        pred_labels_temp[j] = model.predict(mel_sgram,)\n",
    "    \n",
    "    \n",
    "    y, sr = librosa.load(file, mono=True, sr=None, offset=duration_seconds-3, duration=3)\n",
    "    mel_scale_sgram = librosa.feature.melspectrogram(y = y, sr=sr, hop_length=hop_length)\n",
    "\n",
    "    mel_sgram = librosa.amplitude_to_db(mel_scale_sgram, ref=np.min)\n",
    "    mel_sgram = mel_sgram.reshape(-1,n_coef,130,1)\n",
    "    pred_labels_temp[j] = model.predict(mel_sgram,)\n",
    "\n",
    "    pred_labels_temp[n_intervals-1] = model.predict(mel_sgram,)\n",
    "    \n",
    "    jedinice = np.count_nonzero(pred_labels_temp >= 0.5)\n",
    "    nule = n_intervals - jedinice\n",
    "    if(jedinice>=nule):\n",
    "        final_preds[i] = 1\n",
    "    else:\n",
    "        final_preds[i] = 0\n",
    "    i = i+1"
   ]
  },
  {
   "cell_type": "code",
   "execution_count": null,
   "metadata": {},
   "outputs": [],
   "source": [
    "ground_truth_labels = []\n",
    "for file in validation_files:\n",
    "    with open(os.path.splitext(file)[0] + '.txt', 'r') as f:\n",
    "        text = f.read()\n",
    "    if 'gel' in text:\n",
    "        ground_truth_labels.append(1)\n",
    "    else:\n",
    "        ground_truth_labels.append(0)\n",
    "ground_truth_labels = np.array(ground_truth_labels)\n",
    "\n",
    "from sklearn.metrics import accuracy_score\n",
    "\n",
    "print(accuracy_score(ground_truth_labels, final_preds))"
   ]
  },
  {
   "cell_type": "code",
   "execution_count": null,
   "metadata": {},
   "outputs": [],
   "source": [
    "unique, counts = np.unique(ground_truth_labels, return_counts = True)\n",
    "\n",
    "print(unique)\n",
    "print(counts)\n"
   ]
  },
  {
   "cell_type": "code",
   "execution_count": null,
   "metadata": {},
   "outputs": [],
   "source": [
    "unique, counts = np.unique(ground_truth_labels, return_counts = True)\n",
    "\n",
    "print(unique)\n",
    "print(counts)"
   ]
  },
  {
   "cell_type": "code",
   "execution_count": null,
   "metadata": {},
   "outputs": [],
   "source": [
    "from sklearn.metrics import confusion_matrix\n",
    "\n",
    "cm = confusion_matrix(ground_truth_labels, final_preds)\n",
    "\n",
    "plt.imshow(cm, cmap='Blues')\n",
    "\n",
    "thresh = cm.max() / 2.0\n",
    "for i in range(cm.shape[0]):\n",
    "    for j in range(cm.shape[1]):\n",
    "        plt.text(j, i, cm[i, j],\n",
    "                 horizontalalignment=\"center\",\n",
    "                 color=\"white\" if cm[i, j] > thresh else \"black\")\n",
    "\n",
    "plt.title('Confusion Matrix')\n",
    "plt.colorbar()\n",
    "plt.xlabel('Predicted Label')\n",
    "plt.ylabel('True Label')\n",
    "plt.show()\n",
    "\n",
    "print(cm)\n",
    "\n",
    "plt.savefig(\"val_data_1_\" + \" \" + instrument_of_interest + 'confusion_matrix.png')"
   ]
  },
  {
   "cell_type": "markdown",
   "metadata": {},
   "source": [
    "Testing can also be done on audio files from \"IRMAS_Validation_Data_part2\" and \"IRMAS_Validation_Data_part3\""
   ]
  }
 ],
 "metadata": {
  "kernelspec": {
   "display_name": "Python 2",
   "language": "python",
   "name": "python2"
  },
  "language_info": {
   "codemirror_mode": {
    "name": "ipython",
    "version": 2
   },
   "file_extension": ".py",
   "mimetype": "text/x-python",
   "name": "python",
   "nbconvert_exporter": "python",
   "pygments_lexer": "ipython2",
   "version": "2.7.16"
  }
 },
 "nbformat": 4,
 "nbformat_minor": 2
}
